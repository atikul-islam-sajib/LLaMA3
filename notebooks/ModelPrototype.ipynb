{
 "cells": [
  {
   "cell_type": "code",
   "execution_count": 1,
   "id": "ed9293b9",
   "metadata": {},
   "outputs": [],
   "source": [
    "import os\n",
    "import sys\n",
    "import math\n",
    "import torch\n",
    "import torch.nn as nn"
   ]
  },
  {
   "cell_type": "markdown",
   "id": "aed496df",
   "metadata": {},
   "source": [
    "## SwiGLU"
   ]
  },
  {
   "cell_type": "code",
   "execution_count": 2,
   "id": "c4ace126",
   "metadata": {},
   "outputs": [],
   "source": [
    "class SwiGLU(nn.Module):\n",
    "    def __init__(self, name: str = \"SwiGLU\"):\n",
    "        super(SwiGLU, self).__init__()\n",
    "\n",
    "        self.name = name\n",
    "        self.constant = 0.044715\n",
    "\n",
    "    def forward(self, x: torch.Tensor):\n",
    "        if not isinstance(x, torch.Tensor):\n",
    "            raise TypeError(\"Input must be a torch.Tensor\")\n",
    "\n",
    "        swish = x * torch.sigmoid(x)\n",
    "        gelu = 0.5 * x * (1 + torch.tanh(torch.sqrt(torch.tensor(2 / math.pi)) * (x + self.constant * torch.pow(x, 3))))\n",
    "        return swish * gelu\n",
    "    \n",
    "if __name__ == \"__main__\":\n",
    "    activation_func = SwiGLU()\n",
    "    \n",
    "    texts = torch.randn((64, 128, 512))\n",
    "\n",
    "    assert (activation_func(texts).size()) == (64, 128, 512), \"SwiGLU activation function is not working properly\".capitalize()"
   ]
  },
  {
   "cell_type": "markdown",
   "id": "b33ea9b3",
   "metadata": {},
   "source": [
    "## RMSNorm"
   ]
  },
  {
   "cell_type": "code",
   "execution_count": null,
   "id": "2b91d263",
   "metadata": {},
   "outputs": [],
   "source": [
    "class RMSNormalization(nn.Module):\n",
    "    def __init__(self, dimension: int = 512, eps: float = 1e-4):\n",
    "        super(RMSNormalization, self).__init__()\n",
    "\n",
    "        self.dimension = dimension\n",
    "        self.eps = eps\n",
    "\n",
    "        self.gamma = nn.Parameter(data=torch.ones((self.dimension // self.dimension,\n",
    "                                  self.dimension // self.dimension, self.dimension)), requires_grad=True)\n",
    "\n",
    "    def forward(self, x: torch.Tensor):\n",
    "        if not isinstance(x, torch.Tensor):\n",
    "            raise TypeError(\"Input must be a torch.Tensor\".capitalize())\n",
    "\n",
    "        RMS = torch.sqrt(torch.mean(x ** 2, dim=-1) + self.eps)\n",
    "        RMS = RMS.unsqueeze(dim=-1)\n",
    "        \n",
    "        RMSNorm = x / RMS\n",
    "        \n",
    "        return torch.mul(RMSNorm, self.gamma)\n",
    "        \n",
    "\n",
    "\n",
    "if __name__ == \"__main__\":\n",
    "    norm = RMSNormalization(dimension=512)\n",
    "    \n",
    "    assert (norm(torch.randn(64, 128, 512)).size()) == (64, 128, 512), \"RMSNormalization is not working properly\".capitalize()\n"
   ]
  },
  {
   "cell_type": "markdown",
   "id": "aba1d74e",
   "metadata": {},
   "source": []
  }
 ],
 "metadata": {
  "kernelspec": {
   "display_name": "GPSG",
   "language": "python",
   "name": "python3"
  },
  "language_info": {
   "codemirror_mode": {
    "name": "ipython",
    "version": 3
   },
   "file_extension": ".py",
   "mimetype": "text/x-python",
   "name": "python",
   "nbconvert_exporter": "python",
   "pygments_lexer": "ipython3",
   "version": "3.9.18"
  }
 },
 "nbformat": 4,
 "nbformat_minor": 5
}
